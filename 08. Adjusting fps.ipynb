{
 "cells": [
  {
   "cell_type": "code",
   "execution_count": 1,
   "id": "718ffed2-b0e9-4cfa-9af0-9e3e64ea5a61",
   "metadata": {},
   "outputs": [],
   "source": [
    "import cv2\n",
    "import time\n",
    "import numpy as np"
   ]
  },
  {
   "cell_type": "code",
   "execution_count": 2,
   "id": "fdaa3bde-1124-4aaf-953a-e70694691fde",
   "metadata": {},
   "outputs": [],
   "source": [
    "videos = ['inputs/00668.mp4', 'inputs/01599.mp4', 'inputs/27355_2.mp4']"
   ]
  },
  {
   "cell_type": "code",
   "execution_count": null,
   "id": "40d0d895-fa05-4b8a-be8e-b4c6b1832351",
   "metadata": {
    "scrolled": true,
    "tags": []
   },
   "outputs": [],
   "source": [
    "for video in videos:\n",
    "    cap = cv2.VideoCapture(video)\n",
    "\n",
    "    while True:\n",
    "        ret, frame = cap.read()\n",
    "\n",
    "        if ret == False:\n",
    "            break\n",
    "\n",
    "        cv2.imshow('video', frame)\n",
    "\n",
    "        if cv2.waitKey(1) & 0xFF == ord('q'):\n",
    "            break\n",
    "    cap.release()\n",
    "    cv2.destroyAllWindows()"
   ]
  },
  {
   "cell_type": "markdown",
   "id": "5fa8533b-ac2a-4369-b9b1-ae92196ca858",
   "metadata": {},
   "source": [
    "### Adjusting frames per second."
   ]
  },
  {
   "cell_type": "markdown",
   "id": "83b15ac9-22dd-4339-9936-7b33429e9b8f",
   "metadata": {},
   "source": [
    "1. Get the length of video in seconds.\n",
    "2. Decide the desired length of video in seconds."
   ]
  },
  {
   "cell_type": "code",
   "execution_count": null,
   "id": "b1538ae9-1c9d-4e00-93f6-8ae5f3fef4d4",
   "metadata": {
    "scrolled": true,
    "tags": []
   },
   "outputs": [],
   "source": [
    "for video in videos:\n",
    "    cap = cv2.VideoCapture(video)\n",
    "    fps = 0\n",
    "    color = (255, 255, 255)\n",
    "    DESIRED_FPS = 30\n",
    "    while True:\n",
    "        start_time = time.perf_counter()\n",
    "        ret, frame = cap.read()\n",
    "        \n",
    "        if ret == False:\n",
    "            break\n",
    "            \n",
    "        \n",
    "        #Get the length of video in seconds.\n",
    "        video_seconds = int(cap.get(cv2.CAP_PROP_SPEED))\n",
    "        \n",
    "        #Obtain the length of frames.\n",
    "        length_of_frames = int(cap.get(cv2.CAP_PROP_FRAME_COUNT))\n",
    "        \n",
    "        cv2.putText(frame, f'FPS: {fps:.0f}', (300, 30), \n",
    "                   cv2.FONT_HERSHEY_SIMPLEX, 1.5, color, 2)\n",
    "        \n",
    "        cv2.imshow('video', frame)\n",
    "        fps = 1 / time_taken\n",
    "        if cv2.waitKey(DESIRED_FPS) == ord('q'):\n",
    "            break\n",
    "        \n",
    "        stop_time = time.perf_counter()\n",
    "        time_taken = stop_time - start_time\n",
    "        time_taken = time_taken * 100\n",
    "    \n",
    "    cap.release()\n",
    "    cv2.destroyAllWindows()\n",
    "    \n",
    "    print(f'Length of video frames is: {length_of_frames}')\n",
    "    print(f'Time taken is: {time_taken} seconds')\n",
    "    print(f'fps is: {fps * 100} \\n')\n",
    "            "
   ]
  },
  {
   "cell_type": "code",
   "execution_count": null,
   "id": "aad93d9c-3ded-4a55-a0b6-98207d403a09",
   "metadata": {
    "tags": []
   },
   "outputs": [],
   "source": [
    "for video in videos:\n",
    "    cap = cv2.VideoCapture(video)\n",
    "    fps = 0\n",
    "    color = (255, 255, 355)\n",
    "    DESIRED_FPS = 30\n",
    "\n",
    "    while True:\n",
    "        start_time = time.perf_counter()\n",
    "        ret, frame = cap.read()\n",
    "\n",
    "        if ret == False:\n",
    "            break\n",
    "\n",
    "        #Obtain the length of frames.\n",
    "        length_of_frames = int(cap.get(cv2.CAP_PROP_FRAME_COUNT))\n",
    "\n",
    "\n",
    "        cv2.putText(frame, f'FPS: {fps:.0f}', (300, 30), \n",
    "                   cv2.FONT_HERSHEY_SIMPLEX, 1.5, color, 2)\n",
    "\n",
    "        cv2.imshow('video', frame)\n",
    "\n",
    "        if cv2.waitKey(DESIRED_FPS) == ord('q'):\n",
    "            break\n",
    "\n",
    "        stop_time = time.perf_counter()\n",
    "        time_taken = stop_time - start_time\n",
    "        fps = 1 / time_taken\n",
    "\n",
    "    cap.release()\n",
    "    cv2.destroyAllWindows()"
   ]
  },
  {
   "cell_type": "code",
   "execution_count": null,
   "id": "b8ad000a-aa01-4f5b-87f0-5e34b08dc4f2",
   "metadata": {},
   "outputs": [],
   "source": []
  }
 ],
 "metadata": {
  "kernelspec": {
   "display_name": "Python 3 (ipykernel)",
   "language": "python",
   "name": "python3"
  },
  "language_info": {
   "codemirror_mode": {
    "name": "ipython",
    "version": 3
   },
   "file_extension": ".py",
   "mimetype": "text/x-python",
   "name": "python",
   "nbconvert_exporter": "python",
   "pygments_lexer": "ipython3",
   "version": "3.9.12"
  }
 },
 "nbformat": 4,
 "nbformat_minor": 5
}
